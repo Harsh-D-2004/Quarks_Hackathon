{
 "cells": [
  {
   "cell_type": "code",
   "execution_count": 20,
   "id": "ee769376-2212-46d4-a4f0-bd4c122255e0",
   "metadata": {},
   "outputs": [],
   "source": [
    "import pandas as pd\n",
    "import pathway as pw"
   ]
  },
  {
   "cell_type": "code",
   "execution_count": 21,
   "id": "ced0eb13-0eef-45b5-89ac-ee60cf027c7c",
   "metadata": {},
   "outputs": [],
   "source": [
    "class InputSchema(pw.Schema):\n",
    "    user_id: int\n",
    "    date: str\n",
    "    steps: int\n",
    "    calories_burned: float\n",
    "    distance_km: float\n",
    "    active_minutes: int\n",
    "    sleep_hours: float\n",
    "    heart_rate_avg: int\n",
    "    workout_type: str\n",
    "    weather_conditions: str\n",
    "    location: str\n",
    "    mood: str\n",
    "\n",
    "input_table = pw.io.csv.read(\n",
    "    \"small_dataset.csv\",\n",
    "    schema=InputSchema,\n",
    "    mode = \"streaming\"\n",
    ")   "
   ]
  },
  {
   "cell_type": "code",
   "execution_count": 22,
   "id": "7ba7b4be-6313-4c3a-872f-799ed354adb8",
   "metadata": {},
   "outputs": [],
   "source": [
    "user_insights_table = input_table.groupby(pw.this.user_id).reduce(\n",
    "    user_id=pw.this.user_id,\n",
    "    total_steps=pw.reducers.sum(pw.this.steps),\n",
    "    avg_calories_burned=pw.reducers.avg(pw.this.calories_burned),\n",
    "    total_active_minutes=pw.reducers.sum(pw.this.active_minutes),\n",
    "    avg_sleep_hours=pw.reducers.avg(pw.this.sleep_hours),\n",
    "    mood_summary=pw.reducers.max(pw.this.mood),\n",
    "    workout_count=pw.reducers.count(pw.this.workout_type),\n",
    "    is_stressed=pw.reducers.any(pw.this.sleep_hours < 6),\n",
    "    is_unhappy=pw.reducers.any(\n",
    "        (pw.this.mood == \"Stressed\") & (pw.this.workout_type == \"\")\n",
    "    ),\n",
    "    heart_attack_alert=pw.reducers.any(\n",
    "        (pw.this.location == \"Home\") & (pw.this.heart_rate_avg >= 130)\n",
    "    ),\n",
    "    potential_burnout=pw.reducers.any(\n",
    "        (pw.this.active_minutes > 1000) & (pw.this.sleep_hours < 6)\n",
    "    ),\n",
    "    weather_impact=pw.reducers.any(\n",
    "        (pw.this.weather_conditions == \"Rainy\") & (pw.this.steps < 5000)\n",
    "    ),\n",
    "    risk_of_heart_attack=pw.reducers.any(\n",
    "        (pw.this.heart_rate_avg > 130) & (pw.this.sleep_hours < 4)\n",
    "    ),\n",
    "    overall_fitness_score=pw.reducers.avg(\n",
    "        pw.this.steps * 0.4 + pw.this.calories_burned * 0.3 + pw.this.active_minutes * 0.2\n",
    "    ),\n",
    ")\n",
    "\n",
    "result_table = user_insights_table.select(\n",
    "    user_id=pw.this.user_id,\n",
    "    total_steps=pw.this.total_steps,\n",
    "    avg_calories_burned=pw.this.avg_calories_burned,\n",
    "    total_active_minutes=pw.this.total_active_minutes,\n",
    "    avg_sleep_hours=pw.this.avg_sleep_hours,\n",
    "    mood_summary=pw.this.mood_summary,\n",
    "    workout_count=pw.this.workout_count,\n",
    "    is_stressed=pw.this.is_stressed,\n",
    "    is_unhappy=pw.this.is_unhappy,\n",
    "    heart_attack_alert=pw.this.heart_attack_alert,\n",
    "    potential_burnout=pw.this.potential_burnout,\n",
    "    weather_impact = pw.this.weather_impact,\n",
    "    risk_of_heart_attack=pw.this.risk_of_heart_attack,\n",
    "    overall_fitness_score=pw.this.overall_fitness_score,\n",
    ")\n"
   ]
  },
  {
   "cell_type": "code",
   "execution_count": 23,
   "id": "3c5d69b6-5b18-4f92-a96c-a59344f131b5",
   "metadata": {},
   "outputs": [
    {
     "data": {
      "application/vnd.jupyter.widget-view+json": {
       "model_id": "3f54ded2a1bf4170a3191eac55b0817b",
       "version_major": 2,
       "version_minor": 0
      },
      "text/plain": [
       "Output()"
      ]
     },
     "metadata": {},
     "output_type": "display_data"
    },
    {
     "data": {
      "text/html": [
       "<pre style=\"white-space:pre;overflow-x:auto;line-height:normal;font-family:Menlo,'DejaVu Sans Mono',consolas,'Courier New',monospace\"></pre>\n"
      ],
      "text/plain": []
     },
     "metadata": {},
     "output_type": "display_data"
    },
    {
     "ename": "KeyboardInterrupt",
     "evalue": "",
     "output_type": "error",
     "traceback": [
      "\u001b[0;31m---------------------------------------------------------------------------\u001b[0m",
      "\u001b[0;31mKeyboardInterrupt\u001b[0m                         Traceback (most recent call last)",
      "Cell \u001b[0;32mIn[23], line 3\u001b[0m\n\u001b[1;32m      1\u001b[0m pw\u001b[38;5;241m.\u001b[39mio\u001b[38;5;241m.\u001b[39mcsv\u001b[38;5;241m.\u001b[39mwrite(result_table, \u001b[38;5;124m\"\u001b[39m\u001b[38;5;124m./tmp/output_stream.csv\u001b[39m\u001b[38;5;124m\"\u001b[39m)\n\u001b[1;32m      2\u001b[0m \u001b[38;5;66;03m# pw.io.jsonlines.write(result_table, \"/tmp/output.jsonlines\")\u001b[39;00m\n\u001b[0;32m----> 3\u001b[0m \u001b[43mpw\u001b[49m\u001b[38;5;241;43m.\u001b[39;49m\u001b[43mrun\u001b[49m\u001b[43m(\u001b[49m\u001b[43m)\u001b[49m\n",
      "File \u001b[0;32m/mnt/d/Hackathon-National/myenv/lib/python3.12/site-packages/pathway/internals/runtime_type_check.py:19\u001b[0m, in \u001b[0;36mcheck_arg_types.<locals>.with_type_validation\u001b[0;34m(*args, **kwargs)\u001b[0m\n\u001b[1;32m     14\u001b[0m \u001b[38;5;250m\u001b[39m\u001b[38;5;124;03m\"\"\"Hides beartype dependency by reraising beartype exception as TypeError.\u001b[39;00m\n\u001b[1;32m     15\u001b[0m \n\u001b[1;32m     16\u001b[0m \u001b[38;5;124;03mShould not be needed after resolving https://github.com/beartype/beartype/issues/234\u001b[39;00m\n\u001b[1;32m     17\u001b[0m \u001b[38;5;124;03m\"\"\"\u001b[39;00m\n\u001b[1;32m     18\u001b[0m \u001b[38;5;28;01mtry\u001b[39;00m:\n\u001b[0;32m---> 19\u001b[0m     \u001b[38;5;28;01mreturn\u001b[39;00m \u001b[43mbeartype\u001b[49m\u001b[38;5;241;43m.\u001b[39;49m\u001b[43mbeartype\u001b[49m\u001b[43m(\u001b[49m\u001b[43mf\u001b[49m\u001b[43m)\u001b[49m\u001b[43m(\u001b[49m\u001b[38;5;241;43m*\u001b[39;49m\u001b[43margs\u001b[49m\u001b[43m,\u001b[49m\u001b[43m \u001b[49m\u001b[38;5;241;43m*\u001b[39;49m\u001b[38;5;241;43m*\u001b[39;49m\u001b[43mkwargs\u001b[49m\u001b[43m)\u001b[49m\n\u001b[1;32m     20\u001b[0m \u001b[38;5;28;01mexcept\u001b[39;00m beartype\u001b[38;5;241m.\u001b[39mroar\u001b[38;5;241m.\u001b[39mBeartypeCallHintParamViolation \u001b[38;5;28;01mas\u001b[39;00m e:\n\u001b[1;32m     21\u001b[0m     \u001b[38;5;28;01mraise\u001b[39;00m \u001b[38;5;167;01mTypeError\u001b[39;00m(e) \u001b[38;5;28;01mfrom\u001b[39;00m\u001b[38;5;250m \u001b[39m\u001b[38;5;28;01mNone\u001b[39;00m\n",
      "File \u001b[0;32m<@beartype(pathway.internals.run.run) at 0x7efedc5fff60>:147\u001b[0m, in \u001b[0;36mrun\u001b[0;34m(__beartype_func, __beartype_conf, __beartype_get_violation, __beartype_object_68286960, __beartype_object_139632256223360, __beartype_object_139632258087360, __beartype_object_139633028944320, __beartype_object_10746048, *args, **kwargs)\u001b[0m\n",
      "File \u001b[0;32m/mnt/d/Hackathon-National/myenv/lib/python3.12/site-packages/pathway/internals/run.py:52\u001b[0m, in \u001b[0;36mrun\u001b[0;34m(debug, monitoring_level, with_http_server, default_logging, persistence_config, runtime_typechecking, license_key, terminate_on_error)\u001b[0m\n\u001b[1;32m     11\u001b[0m \u001b[38;5;129m@check_arg_types\u001b[39m\n\u001b[1;32m     12\u001b[0m \u001b[38;5;28;01mdef\u001b[39;00m\u001b[38;5;250m \u001b[39m\u001b[38;5;21mrun\u001b[39m(\n\u001b[1;32m     13\u001b[0m     \u001b[38;5;241m*\u001b[39m,\n\u001b[0;32m   (...)\u001b[0m\n\u001b[1;32m     21\u001b[0m     terminate_on_error: \u001b[38;5;28mbool\u001b[39m \u001b[38;5;241m|\u001b[39m \u001b[38;5;28;01mNone\u001b[39;00m \u001b[38;5;241m=\u001b[39m \u001b[38;5;28;01mNone\u001b[39;00m,\n\u001b[1;32m     22\u001b[0m ) \u001b[38;5;241m-\u001b[39m\u001b[38;5;241m>\u001b[39m \u001b[38;5;28;01mNone\u001b[39;00m:\n\u001b[1;32m     23\u001b[0m \u001b[38;5;250m    \u001b[39m\u001b[38;5;124;03m\"\"\"Runs the computation graph.\u001b[39;00m\n\u001b[1;32m     24\u001b[0m \n\u001b[1;32m     25\u001b[0m \u001b[38;5;124;03m    Args:\u001b[39;00m\n\u001b[0;32m   (...)\u001b[0m\n\u001b[1;32m     39\u001b[0m \u001b[38;5;124;03m        terminate_on_error: whether to terminate the computation if the data/user-logic error occurs\u001b[39;00m\n\u001b[1;32m     40\u001b[0m \u001b[38;5;124;03m    \"\"\"\u001b[39;00m\n\u001b[1;32m     41\u001b[0m     \u001b[43mGraphRunner\u001b[49m\u001b[43m(\u001b[49m\n\u001b[1;32m     42\u001b[0m \u001b[43m        \u001b[49m\u001b[43mparse_graph\u001b[49m\u001b[38;5;241;43m.\u001b[39;49m\u001b[43mG\u001b[49m\u001b[43m,\u001b[49m\n\u001b[1;32m     43\u001b[0m \u001b[43m        \u001b[49m\u001b[43mdebug\u001b[49m\u001b[38;5;241;43m=\u001b[39;49m\u001b[43mdebug\u001b[49m\u001b[43m,\u001b[49m\n\u001b[1;32m     44\u001b[0m \u001b[43m        \u001b[49m\u001b[43mmonitoring_level\u001b[49m\u001b[38;5;241;43m=\u001b[39;49m\u001b[43mmonitoring_level\u001b[49m\u001b[43m,\u001b[49m\n\u001b[1;32m     45\u001b[0m \u001b[43m        \u001b[49m\u001b[43mwith_http_server\u001b[49m\u001b[38;5;241;43m=\u001b[39;49m\u001b[43mwith_http_server\u001b[49m\u001b[43m,\u001b[49m\n\u001b[1;32m     46\u001b[0m \u001b[43m        \u001b[49m\u001b[43mdefault_logging\u001b[49m\u001b[38;5;241;43m=\u001b[39;49m\u001b[43mdefault_logging\u001b[49m\u001b[43m,\u001b[49m\n\u001b[1;32m     47\u001b[0m \u001b[43m        \u001b[49m\u001b[43mpersistence_config\u001b[49m\u001b[38;5;241;43m=\u001b[39;49m\u001b[43mpersistence_config\u001b[49m\u001b[43m,\u001b[49m\n\u001b[1;32m     48\u001b[0m \u001b[43m        \u001b[49m\u001b[43mlicense_key\u001b[49m\u001b[38;5;241;43m=\u001b[39;49m\u001b[43mlicense_key\u001b[49m\u001b[43m,\u001b[49m\n\u001b[1;32m     49\u001b[0m \u001b[43m        \u001b[49m\u001b[43mruntime_typechecking\u001b[49m\u001b[38;5;241;43m=\u001b[39;49m\u001b[43mruntime_typechecking\u001b[49m\u001b[43m,\u001b[49m\n\u001b[1;32m     50\u001b[0m \u001b[43m        \u001b[49m\u001b[43mterminate_on_error\u001b[49m\u001b[38;5;241;43m=\u001b[39;49m\u001b[43mterminate_on_error\u001b[49m\u001b[43m,\u001b[49m\n\u001b[1;32m     51\u001b[0m \u001b[43m        \u001b[49m\u001b[43m_stacklevel\u001b[49m\u001b[38;5;241;43m=\u001b[39;49m\u001b[38;5;241;43m4\u001b[39;49m\u001b[43m,\u001b[49m\n\u001b[0;32m---> 52\u001b[0m \u001b[43m    \u001b[49m\u001b[43m)\u001b[49m\u001b[38;5;241;43m.\u001b[39;49m\u001b[43mrun_outputs\u001b[49m\u001b[43m(\u001b[49m\u001b[43m)\u001b[49m\n",
      "File \u001b[0;32m/mnt/d/Hackathon-National/myenv/lib/python3.12/site-packages/pathway/internals/graph_runner/__init__.py:118\u001b[0m, in \u001b[0;36mGraphRunner.run_outputs\u001b[0;34m(self, after_build)\u001b[0m\n\u001b[1;32m    113\u001b[0m \u001b[38;5;28;01mdef\u001b[39;00m\u001b[38;5;250m \u001b[39m\u001b[38;5;21mrun_outputs\u001b[39m(\n\u001b[1;32m    114\u001b[0m     \u001b[38;5;28mself\u001b[39m,\n\u001b[1;32m    115\u001b[0m     \u001b[38;5;241m*\u001b[39m,\n\u001b[1;32m    116\u001b[0m     after_build: Callable[[ScopeState, OperatorStorageGraph], \u001b[38;5;28;01mNone\u001b[39;00m] \u001b[38;5;241m|\u001b[39m \u001b[38;5;28;01mNone\u001b[39;00m \u001b[38;5;241m=\u001b[39m \u001b[38;5;28;01mNone\u001b[39;00m,\n\u001b[1;32m    117\u001b[0m ) \u001b[38;5;241m-\u001b[39m\u001b[38;5;241m>\u001b[39m \u001b[38;5;28;01mNone\u001b[39;00m:\n\u001b[0;32m--> 118\u001b[0m     \u001b[38;5;28;43mself\u001b[39;49m\u001b[38;5;241;43m.\u001b[39;49m\u001b[43mrun_nodes\u001b[49m\u001b[43m(\u001b[49m\u001b[38;5;28;43mself\u001b[39;49m\u001b[38;5;241;43m.\u001b[39;49m\u001b[43m_graph\u001b[49m\u001b[38;5;241;43m.\u001b[39;49m\u001b[43mglobal_scope\u001b[49m\u001b[38;5;241;43m.\u001b[39;49m\u001b[43moutput_nodes\u001b[49m\u001b[43m,\u001b[49m\u001b[43m \u001b[49m\u001b[43mafter_build\u001b[49m\u001b[38;5;241;43m=\u001b[39;49m\u001b[43mafter_build\u001b[49m\u001b[43m)\u001b[49m\n",
      "File \u001b[0;32m/mnt/d/Hackathon-National/myenv/lib/python3.12/site-packages/pathway/internals/graph_runner/__init__.py:94\u001b[0m, in \u001b[0;36mGraphRunner.run_nodes\u001b[0;34m(self, nodes, after_build)\u001b[0m\n\u001b[1;32m     86\u001b[0m \u001b[38;5;28;01mdef\u001b[39;00m\u001b[38;5;250m \u001b[39m\u001b[38;5;21mrun_nodes\u001b[39m(\n\u001b[1;32m     87\u001b[0m     \u001b[38;5;28mself\u001b[39m,\n\u001b[1;32m     88\u001b[0m     nodes: Iterable[Operator],\n\u001b[0;32m   (...)\u001b[0m\n\u001b[1;32m     91\u001b[0m     after_build: Callable[[ScopeState, OperatorStorageGraph], \u001b[38;5;28;01mNone\u001b[39;00m] \u001b[38;5;241m|\u001b[39m \u001b[38;5;28;01mNone\u001b[39;00m \u001b[38;5;241m=\u001b[39m \u001b[38;5;28;01mNone\u001b[39;00m,\n\u001b[1;32m     92\u001b[0m ):\n\u001b[1;32m     93\u001b[0m     all_nodes \u001b[38;5;241m=\u001b[39m \u001b[38;5;28mself\u001b[39m\u001b[38;5;241m.\u001b[39m_tree_shake(\u001b[38;5;28mself\u001b[39m\u001b[38;5;241m.\u001b[39m_graph\u001b[38;5;241m.\u001b[39mglobal_scope, nodes)\n\u001b[0;32m---> 94\u001b[0m     \u001b[38;5;28;43mself\u001b[39;49m\u001b[38;5;241;43m.\u001b[39;49m\u001b[43m_run\u001b[49m\u001b[43m(\u001b[49m\u001b[43mall_nodes\u001b[49m\u001b[43m,\u001b[49m\u001b[43m \u001b[49m\u001b[43mafter_build\u001b[49m\u001b[38;5;241;43m=\u001b[39;49m\u001b[43mafter_build\u001b[49m\u001b[43m)\u001b[49m\n",
      "File \u001b[0;32m/mnt/d/Hackathon-National/myenv/lib/python3.12/site-packages/pathway/internals/graph_runner/__init__.py:203\u001b[0m, in \u001b[0;36mGraphRunner._run\u001b[0;34m(self, nodes, output_tables, after_build, run_all)\u001b[0m\n\u001b[1;32m    189\u001b[0m \u001b[38;5;28;01mwith\u001b[39;00m (\n\u001b[1;32m    190\u001b[0m     new_event_loop() \u001b[38;5;28;01mas\u001b[39;00m event_loop,\n\u001b[1;32m    191\u001b[0m     monitor_stats(\n\u001b[0;32m   (...)\u001b[0m\n\u001b[1;32m    200\u001b[0m     ) \u001b[38;5;28;01mas\u001b[39;00m persistence_engine_config,\n\u001b[1;32m    201\u001b[0m ):\n\u001b[1;32m    202\u001b[0m     \u001b[38;5;28;01mtry\u001b[39;00m:\n\u001b[0;32m--> 203\u001b[0m         \u001b[38;5;28;01mreturn\u001b[39;00m \u001b[43mapi\u001b[49m\u001b[38;5;241;43m.\u001b[39;49m\u001b[43mrun_with_new_graph\u001b[49m\u001b[43m(\u001b[49m\n\u001b[1;32m    204\u001b[0m \u001b[43m            \u001b[49m\u001b[43mlogic\u001b[49m\u001b[43m,\u001b[49m\n\u001b[1;32m    205\u001b[0m \u001b[43m            \u001b[49m\u001b[43mevent_loop\u001b[49m\u001b[38;5;241;43m=\u001b[39;49m\u001b[43mevent_loop\u001b[49m\u001b[43m,\u001b[49m\n\u001b[1;32m    206\u001b[0m \u001b[43m            \u001b[49m\u001b[43mignore_asserts\u001b[49m\u001b[38;5;241;43m=\u001b[39;49m\u001b[38;5;28;43mself\u001b[39;49m\u001b[38;5;241;43m.\u001b[39;49m\u001b[43mignore_asserts\u001b[49m\u001b[43m,\u001b[49m\n\u001b[1;32m    207\u001b[0m \u001b[43m            \u001b[49m\u001b[43mstats_monitor\u001b[49m\u001b[38;5;241;43m=\u001b[39;49m\u001b[43mstats_monitor\u001b[49m\u001b[43m,\u001b[49m\n\u001b[1;32m    208\u001b[0m \u001b[43m            \u001b[49m\u001b[43mmonitoring_level\u001b[49m\u001b[38;5;241;43m=\u001b[39;49m\u001b[43mmonitoring_level\u001b[49m\u001b[43m,\u001b[49m\n\u001b[1;32m    209\u001b[0m \u001b[43m            \u001b[49m\u001b[43mwith_http_server\u001b[49m\u001b[38;5;241;43m=\u001b[39;49m\u001b[38;5;28;43mself\u001b[39;49m\u001b[38;5;241;43m.\u001b[39;49m\u001b[43mwith_http_server\u001b[49m\u001b[43m,\u001b[49m\n\u001b[1;32m    210\u001b[0m \u001b[43m            \u001b[49m\u001b[43mpersistence_config\u001b[49m\u001b[38;5;241;43m=\u001b[39;49m\u001b[43mpersistence_engine_config\u001b[49m\u001b[43m,\u001b[49m\n\u001b[1;32m    211\u001b[0m \u001b[43m            \u001b[49m\u001b[43mlicense_key\u001b[49m\u001b[38;5;241;43m=\u001b[39;49m\u001b[38;5;28;43mself\u001b[39;49m\u001b[38;5;241;43m.\u001b[39;49m\u001b[43mlicense_key\u001b[49m\u001b[43m,\u001b[49m\n\u001b[1;32m    212\u001b[0m \u001b[43m            \u001b[49m\u001b[43mmonitoring_server\u001b[49m\u001b[38;5;241;43m=\u001b[39;49m\u001b[43mpathway_config\u001b[49m\u001b[38;5;241;43m.\u001b[39;49m\u001b[43mmonitoring_server\u001b[49m\u001b[43m,\u001b[49m\n\u001b[1;32m    213\u001b[0m \u001b[43m            \u001b[49m\u001b[43mtrace_parent\u001b[49m\u001b[38;5;241;43m=\u001b[39;49m\u001b[43mtrace_parent\u001b[49m\u001b[43m,\u001b[49m\n\u001b[1;32m    214\u001b[0m \u001b[43m            \u001b[49m\u001b[43mrun_id\u001b[49m\u001b[38;5;241;43m=\u001b[39;49m\u001b[43mrun_id\u001b[49m\u001b[43m,\u001b[49m\n\u001b[1;32m    215\u001b[0m \u001b[43m            \u001b[49m\u001b[43mterminate_on_error\u001b[49m\u001b[38;5;241;43m=\u001b[39;49m\u001b[38;5;28;43mself\u001b[39;49m\u001b[38;5;241;43m.\u001b[39;49m\u001b[43mterminate_on_error\u001b[49m\u001b[43m,\u001b[49m\n\u001b[1;32m    216\u001b[0m \u001b[43m        \u001b[49m\u001b[43m)\u001b[49m\n\u001b[1;32m    217\u001b[0m     \u001b[38;5;28;01mexcept\u001b[39;00m api\u001b[38;5;241m.\u001b[39mEngineErrorWithTrace \u001b[38;5;28;01mas\u001b[39;00m e:\n\u001b[1;32m    218\u001b[0m         error, frame \u001b[38;5;241m=\u001b[39m e\u001b[38;5;241m.\u001b[39margs\n",
      "\u001b[0;31mKeyboardInterrupt\u001b[0m: "
     ]
    }
   ],
   "source": [
    "pw.io.csv.write(result_table, \"./tmp/output_stream.csv\")\n",
    "# pw.io.jsonlines.write(result_table, \"/tmp/output.jsonlines\")\n",
    "pw.run()"
   ]
  },
  {
   "cell_type": "code",
   "execution_count": null,
   "id": "673ac5ca-9392-4d67-8302-89308a449216",
   "metadata": {},
   "outputs": [],
   "source": []
  }
 ],
 "metadata": {
  "kernelspec": {
   "display_name": "Python 3 (ipykernel)",
   "language": "python",
   "name": "python3"
  },
  "language_info": {
   "codemirror_mode": {
    "name": "ipython",
    "version": 3
   },
   "file_extension": ".py",
   "mimetype": "text/x-python",
   "name": "python",
   "nbconvert_exporter": "python",
   "pygments_lexer": "ipython3",
   "version": "3.12.3"
  }
 },
 "nbformat": 4,
 "nbformat_minor": 5
}
